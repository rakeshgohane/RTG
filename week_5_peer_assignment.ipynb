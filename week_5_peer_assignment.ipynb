{
 "cells": [
  {
   "cell_type": "code",
   "execution_count": 1,
   "metadata": {},
   "outputs": [],
   "source": [
    "import types\n",
    "import pandas as pd\n",
    "import seaborn as sns\n",
    "from botocore.client import Config\n",
    "import ibm_boto3\n",
    "import matplotlib.pyplot as plt\n",
    "import pylab as pl\n",
    "import numpy as np\n",
    "%matplotlib inline"
   ]
  },
  {
   "cell_type": "code",
   "execution_count": 2,
   "metadata": {},
   "outputs": [
    {
     "data": {
      "text/html": [
       "<div>\n",
       "<style scoped>\n",
       "    .dataframe tbody tr th:only-of-type {\n",
       "        vertical-align: middle;\n",
       "    }\n",
       "\n",
       "    .dataframe tbody tr th {\n",
       "        vertical-align: top;\n",
       "    }\n",
       "\n",
       "    .dataframe thead th {\n",
       "        text-align: right;\n",
       "    }\n",
       "</style>\n",
       "<table border=\"1\" class=\"dataframe\">\n",
       "  <thead>\n",
       "    <tr style=\"text-align: right;\">\n",
       "      <th></th>\n",
       "      <th>MANAGER</th>\n",
       "      <th>PRACTITIONER</th>\n",
       "      <th>MONTH</th>\n",
       "      <th>AMOUNT</th>\n",
       "      <th>LOB</th>\n",
       "    </tr>\n",
       "  </thead>\n",
       "  <tbody>\n",
       "    <tr>\n",
       "      <th>0</th>\n",
       "      <td>0</td>\n",
       "      <td>0</td>\n",
       "      <td>11</td>\n",
       "      <td>29.0</td>\n",
       "      <td>MARKETING</td>\n",
       "    </tr>\n",
       "    <tr>\n",
       "      <th>1</th>\n",
       "      <td>0</td>\n",
       "      <td>0</td>\n",
       "      <td>10</td>\n",
       "      <td>29.0</td>\n",
       "      <td>MARKETING</td>\n",
       "    </tr>\n",
       "    <tr>\n",
       "      <th>2</th>\n",
       "      <td>0</td>\n",
       "      <td>0</td>\n",
       "      <td>12</td>\n",
       "      <td>28.0</td>\n",
       "      <td>MARKETING</td>\n",
       "    </tr>\n",
       "    <tr>\n",
       "      <th>3</th>\n",
       "      <td>0</td>\n",
       "      <td>1</td>\n",
       "      <td>1</td>\n",
       "      <td>19.0</td>\n",
       "      <td>PFS</td>\n",
       "    </tr>\n",
       "    <tr>\n",
       "      <th>4</th>\n",
       "      <td>0</td>\n",
       "      <td>1</td>\n",
       "      <td>2</td>\n",
       "      <td>19.0</td>\n",
       "      <td>PFS</td>\n",
       "    </tr>\n",
       "  </tbody>\n",
       "</table>\n",
       "</div>"
      ],
      "text/plain": [
       "   MANAGER  PRACTITIONER  MONTH  AMOUNT        LOB\n",
       "0        0             0     11    29.0  MARKETING\n",
       "1        0             0     10    29.0  MARKETING\n",
       "2        0             0     12    28.0  MARKETING\n",
       "3        0             1      1    19.0        PFS\n",
       "4        0             1      2    19.0        PFS"
      ]
     },
     "execution_count": 2,
     "metadata": {},
     "output_type": "execute_result"
    }
   ],
   "source": [
    "df = pd.read_csv('phone_reimbursments_OMN.csv')\n",
    "df.head()"
   ]
  },
  {
   "cell_type": "markdown",
   "metadata": {},
   "source": [
    "## Showing the data types in the dataframe df"
   ]
  },
  {
   "cell_type": "code",
   "execution_count": 6,
   "metadata": {},
   "outputs": [
    {
     "data": {
      "text/plain": [
       "MANAGER           int64\n",
       "PRACTITIONER      int64\n",
       "MONTH             int64\n",
       "AMOUNT          float64\n",
       "LOB              object\n",
       "dtype: object"
      ]
     },
     "execution_count": 6,
     "metadata": {},
     "output_type": "execute_result"
    }
   ],
   "source": [
    "df.dtypes"
   ]
  },
  {
   "cell_type": "markdown",
   "metadata": {},
   "source": [
    "The dataframe contains 591 records. The average claimed amount is around 38 INR"
   ]
  },
  {
   "cell_type": "markdown",
   "metadata": {},
   "source": [
    "### Inferential statistical testing"
   ]
  },
  {
   "cell_type": "code",
   "execution_count": 7,
   "metadata": {},
   "outputs": [
    {
     "data": {
      "text/html": [
       "<div>\n",
       "<style scoped>\n",
       "    .dataframe tbody tr th:only-of-type {\n",
       "        vertical-align: middle;\n",
       "    }\n",
       "\n",
       "    .dataframe tbody tr th {\n",
       "        vertical-align: top;\n",
       "    }\n",
       "\n",
       "    .dataframe thead th {\n",
       "        text-align: right;\n",
       "    }\n",
       "</style>\n",
       "<table border=\"1\" class=\"dataframe\">\n",
       "  <thead>\n",
       "    <tr style=\"text-align: right;\">\n",
       "      <th></th>\n",
       "      <th>MANAGER</th>\n",
       "      <th>PRACTITIONER</th>\n",
       "      <th>MONTH</th>\n",
       "      <th>AMOUNT</th>\n",
       "    </tr>\n",
       "  </thead>\n",
       "  <tbody>\n",
       "    <tr>\n",
       "      <th>count</th>\n",
       "      <td>591.000000</td>\n",
       "      <td>591.000000</td>\n",
       "      <td>591.000000</td>\n",
       "      <td>591.000000</td>\n",
       "    </tr>\n",
       "    <tr>\n",
       "      <th>mean</th>\n",
       "      <td>0.179357</td>\n",
       "      <td>0.389171</td>\n",
       "      <td>6.084602</td>\n",
       "      <td>37.700623</td>\n",
       "    </tr>\n",
       "    <tr>\n",
       "      <th>std</th>\n",
       "      <td>0.383976</td>\n",
       "      <td>0.487975</td>\n",
       "      <td>3.385855</td>\n",
       "      <td>28.238504</td>\n",
       "    </tr>\n",
       "    <tr>\n",
       "      <th>min</th>\n",
       "      <td>0.000000</td>\n",
       "      <td>0.000000</td>\n",
       "      <td>1.000000</td>\n",
       "      <td>2.620000</td>\n",
       "    </tr>\n",
       "    <tr>\n",
       "      <th>25%</th>\n",
       "      <td>0.000000</td>\n",
       "      <td>0.000000</td>\n",
       "      <td>3.000000</td>\n",
       "      <td>21.615000</td>\n",
       "    </tr>\n",
       "    <tr>\n",
       "      <th>50%</th>\n",
       "      <td>0.000000</td>\n",
       "      <td>0.000000</td>\n",
       "      <td>6.000000</td>\n",
       "      <td>29.852000</td>\n",
       "    </tr>\n",
       "    <tr>\n",
       "      <th>75%</th>\n",
       "      <td>0.000000</td>\n",
       "      <td>1.000000</td>\n",
       "      <td>9.000000</td>\n",
       "      <td>43.732000</td>\n",
       "    </tr>\n",
       "    <tr>\n",
       "      <th>max</th>\n",
       "      <td>1.000000</td>\n",
       "      <td>1.000000</td>\n",
       "      <td>12.000000</td>\n",
       "      <td>176.742667</td>\n",
       "    </tr>\n",
       "  </tbody>\n",
       "</table>\n",
       "</div>"
      ],
      "text/plain": [
       "          MANAGER  PRACTITIONER       MONTH      AMOUNT\n",
       "count  591.000000    591.000000  591.000000  591.000000\n",
       "mean     0.179357      0.389171    6.084602   37.700623\n",
       "std      0.383976      0.487975    3.385855   28.238504\n",
       "min      0.000000      0.000000    1.000000    2.620000\n",
       "25%      0.000000      0.000000    3.000000   21.615000\n",
       "50%      0.000000      0.000000    6.000000   29.852000\n",
       "75%      0.000000      1.000000    9.000000   43.732000\n",
       "max      1.000000      1.000000   12.000000  176.742667"
      ]
     },
     "execution_count": 7,
     "metadata": {},
     "output_type": "execute_result"
    }
   ],
   "source": [
    "df.describe()"
   ]
  },
  {
   "cell_type": "code",
   "execution_count": 21,
   "metadata": {},
   "outputs": [
    {
     "data": {
      "text/html": [
       "<div>\n",
       "<style scoped>\n",
       "    .dataframe tbody tr th:only-of-type {\n",
       "        vertical-align: middle;\n",
       "    }\n",
       "\n",
       "    .dataframe tbody tr th {\n",
       "        vertical-align: top;\n",
       "    }\n",
       "\n",
       "    .dataframe thead th {\n",
       "        text-align: right;\n",
       "    }\n",
       "</style>\n",
       "<table border=\"1\" class=\"dataframe\">\n",
       "  <thead>\n",
       "    <tr style=\"text-align: right;\">\n",
       "      <th></th>\n",
       "      <th>MANAGER</th>\n",
       "      <th>PRACTITIONER</th>\n",
       "      <th>AMOUNT</th>\n",
       "    </tr>\n",
       "    <tr>\n",
       "      <th>MONTH</th>\n",
       "      <th></th>\n",
       "      <th></th>\n",
       "      <th></th>\n",
       "    </tr>\n",
       "  </thead>\n",
       "  <tbody>\n",
       "    <tr>\n",
       "      <th>1</th>\n",
       "      <td>10</td>\n",
       "      <td>23</td>\n",
       "      <td>2077.154000</td>\n",
       "    </tr>\n",
       "    <tr>\n",
       "      <th>2</th>\n",
       "      <td>10</td>\n",
       "      <td>19</td>\n",
       "      <td>2156.058000</td>\n",
       "    </tr>\n",
       "    <tr>\n",
       "      <th>3</th>\n",
       "      <td>11</td>\n",
       "      <td>18</td>\n",
       "      <td>2221.328000</td>\n",
       "    </tr>\n",
       "    <tr>\n",
       "      <th>4</th>\n",
       "      <td>12</td>\n",
       "      <td>20</td>\n",
       "      <td>2232.757000</td>\n",
       "    </tr>\n",
       "    <tr>\n",
       "      <th>5</th>\n",
       "      <td>10</td>\n",
       "      <td>19</td>\n",
       "      <td>2088.711000</td>\n",
       "    </tr>\n",
       "    <tr>\n",
       "      <th>6</th>\n",
       "      <td>10</td>\n",
       "      <td>18</td>\n",
       "      <td>1910.392000</td>\n",
       "    </tr>\n",
       "    <tr>\n",
       "      <th>7</th>\n",
       "      <td>8</td>\n",
       "      <td>19</td>\n",
       "      <td>1904.683667</td>\n",
       "    </tr>\n",
       "    <tr>\n",
       "      <th>8</th>\n",
       "      <td>8</td>\n",
       "      <td>19</td>\n",
       "      <td>1669.493667</td>\n",
       "    </tr>\n",
       "    <tr>\n",
       "      <th>9</th>\n",
       "      <td>8</td>\n",
       "      <td>18</td>\n",
       "      <td>1533.367667</td>\n",
       "    </tr>\n",
       "    <tr>\n",
       "      <th>10</th>\n",
       "      <td>8</td>\n",
       "      <td>19</td>\n",
       "      <td>1763.924667</td>\n",
       "    </tr>\n",
       "    <tr>\n",
       "      <th>11</th>\n",
       "      <td>6</td>\n",
       "      <td>20</td>\n",
       "      <td>1548.838667</td>\n",
       "    </tr>\n",
       "    <tr>\n",
       "      <th>12</th>\n",
       "      <td>5</td>\n",
       "      <td>18</td>\n",
       "      <td>1174.359667</td>\n",
       "    </tr>\n",
       "  </tbody>\n",
       "</table>\n",
       "</div>"
      ],
      "text/plain": [
       "       MANAGER  PRACTITIONER       AMOUNT\n",
       "MONTH                                    \n",
       "1           10            23  2077.154000\n",
       "2           10            19  2156.058000\n",
       "3           11            18  2221.328000\n",
       "4           12            20  2232.757000\n",
       "5           10            19  2088.711000\n",
       "6           10            18  1910.392000\n",
       "7            8            19  1904.683667\n",
       "8            8            19  1669.493667\n",
       "9            8            18  1533.367667\n",
       "10           8            19  1763.924667\n",
       "11           6            20  1548.838667\n",
       "12           5            18  1174.359667"
      ]
     },
     "execution_count": 21,
     "metadata": {},
     "output_type": "execute_result"
    }
   ],
   "source": [
    "df.groupby('MONTH').sum()"
   ]
  },
  {
   "cell_type": "markdown",
   "metadata": {},
   "source": [
    "### The histogram shows that most of the claimed amounts are between 15 and 35 INR. There are a couple of outliers in the range of >100 INR"
   ]
  },
  {
   "cell_type": "code",
   "execution_count": 50,
   "metadata": {},
   "outputs": [
    {
     "data": {
      "image/png": "[encoded data removed]",
      "text/plain": [
       "<matplotlib.figure.Figure at 0x7fc4c0070550>"
      ]
     },
     "metadata": {},
     "output_type": "display_data"
    }
   ],
   "source": [
    "hist = df['AMOUNT'].hist(bins=25)"
   ]
  },
  {
   "cell_type": "markdown",
   "metadata": {},
   "source": [
    "### Showing the distribution of claims for non-managers and managers respectively"
   ]
  },
  {
   "cell_type": "code",
   "execution_count": 3,
   "metadata": {},
   "outputs": [
    {
     "data": {
      "image/png": "[encoded data removed]",
      "text/plain": [
       "<matplotlib.figure.Figure at 0x7f946cb96278>"
      ]
     },
     "metadata": {},
     "output_type": "display_data"
    }
   ],
   "source": [
    "hist = df.hist(by='MANAGER', column='AMOUNT', bins=25, sharey=True, sharex=True)"
   ]
  },
  {
   "cell_type": "code",
   "execution_count": 4,
   "metadata": {},
   "outputs": [
    {
     "data": {
      "text/plain": [
       "MANAGER\n",
       "0    485\n",
       "1    106\n",
       "Name: AMOUNT, dtype: int64"
      ]
     },
     "execution_count": 4,
     "metadata": {},
     "output_type": "execute_result"
    }
   ],
   "source": [
    "df.groupby('MANAGER')['AMOUNT'].count()"
   ]
  },
  {
   "cell_type": "code",
   "execution_count": 5,
   "metadata": {},
   "outputs": [
    {
     "data": {
      "text/plain": [
       "PRACTITIONER\n",
       "0    361\n",
       "1    230\n",
       "Name: AMOUNT, dtype: int64"
      ]
     },
     "execution_count": 5,
     "metadata": {},
     "output_type": "execute_result"
    }
   ],
   "source": [
    "df.groupby('PRACTITIONER')['AMOUNT'].count()"
   ]
  },
  {
   "cell_type": "markdown",
   "metadata": {},
   "source": [
    "## Showing the average expense claim amount grouped by MANAGER and then by PRACTITIONER. We will use it to compare the result of the clustering with this basic approach later"
   ]
  },
  {
   "cell_type": "code",
   "execution_count": 37,
   "metadata": {},
   "outputs": [
    {
     "data": {
      "text/plain": [
       "MANAGER  PRACTITIONER\n",
       "0        0               35.791790\n",
       "         1               29.901615\n",
       "1        0               63.384628\n",
       "         1               20.662750\n",
       "Name: AMOUNT, dtype: float64"
      ]
     },
     "execution_count": 37,
     "metadata": {},
     "output_type": "execute_result"
    }
   ],
   "source": [
    "df.groupby(['MANAGER', 'PRACTITIONER'])['AMOUNT'].mean()"
   ]
  },
  {
   "cell_type": "code",
   "execution_count": 6,
   "metadata": {
    "scrolled": true
   },
   "outputs": [
    {
     "data": {
      "image/png": "[encoded data removed]",
      "text/plain": [
       "<matplotlib.figure.Figure at 0x7f94650a2e48>"
      ]
     },
     "metadata": {},
     "output_type": "display_data"
    }
   ],
   "source": [
    "hist = df.hist(by='PRACTITIONER', column='AMOUNT', bins=25, sharey=True, sharex=True)"
   ]
  },
  {
   "cell_type": "code",
   "execution_count": 3,
   "metadata": {},
   "outputs": [
    {
     "data": {
      "image/png": "[encoded data removed]",
      "text/plain": [
       "<matplotlib.figure.Figure at 0x7f23317b2f60>"
      ]
     },
     "metadata": {},
     "output_type": "display_data"
    }
   ],
   "source": [
    "hist = df.hist(by='MONTH', column='AMOUNT', bins=25, sharey=True, sharex=True)"
   ]
  },
  {
   "cell_type": "markdown",
   "metadata": {},
   "source": [
    "## Let us check the probability density for each month's amount (I have grouped them to quarters). In certain cases this is a better representation than the histogram for the distribusion of amounts."
   ]
  },
  {
   "cell_type": "code",
   "execution_count": 28,
   "metadata": {
    "scrolled": true
   },
   "outputs": [
    {
     "data": {
      "image/png": "[encoded data removed]",
      "text/plain": [
       "<matplotlib.figure.Figure at 0x7f9461885780>"
      ]
     },
     "metadata": {},
     "output_type": "display_data"
    }
   ],
   "source": [
    "months = df['MONTH'].unique().tolist()\n",
    "quarters = [[1,2,3],[4, 5, 6],[7,8,9],[10,11,12]]\n",
    "\n",
    "fig = plt.figure(figsize = (15,10))\n",
    "ax = fig.gca()\n",
    "\n",
    "for i, quarter in enumerate(quarters):\n",
    "    \n",
    "    # Set up the plot\n",
    "    ax = plt.subplot(2, 2, i + 1)\n",
    "    \n",
    "    for month in quarter:\n",
    "        subset = df[df['MONTH'] == month]\n",
    "        \n",
    "        sns.distplot(subset['AMOUNT'], hist = False, kde = True,\n",
    "                     kde_kws = {'linewidth': 3},\n",
    "                     label = month,\n",
    "                     ax=ax)\n",
    "        \n",
    "        ax.set_title('Density Plot - Q%d' % (i+1), size = 25)\n",
    "        ax.set_xlabel('Month', size = 22)\n",
    "        ax.set_ylabel('Amount', size= 22)\n",
    "\n",
    "plt.tight_layout()\n",
    "plt.show()"
   ]
  },
  {
   "cell_type": "markdown",
   "metadata": {},
   "source": [
    "### Series of Box plots showing the distribution of the monthly expense claims. Looks like that all months are more or less the same in terms of the median. In each month we have a number of outliers."
   ]
  },
  {
   "cell_type": "code",
   "execution_count": 7,
   "metadata": {
    "scrolled": false
   },
   "outputs": [
    {
     "data": {
      "image/png": "[encoded data removed]",
      "text/plain": [
       "<matplotlib.figure.Figure at 0x7f9464f8c6a0>"
      ]
     },
     "metadata": {},
     "output_type": "display_data"
    }
   ],
   "source": [
    "fig = plt.figure(figsize = (15,5))\n",
    "plt.xlabel('MONTH', size = 15)\n",
    "plt.ylabel('AMOUNT', size = 15)\n",
    "plt.title('BOXPLOT - INVOICE AMOUNT GROUPED BY MONTH', size = 40)\n",
    "plt.xticks(size = 15)\n",
    "plt.yticks(size = 15)\n",
    "ax = fig.gca()\n",
    "boxprops = dict(linestyle='-', linewidth=4, color='k')\n",
    "medianprops = dict(linestyle='-', linewidth=4, color='k')\n",
    "hist = df.boxplot(by='MONTH', column='AMOUNT', ax=ax, boxprops=boxprops, medianprops=medianprops)\n",
    "plt.show()"
   ]
  },
  {
   "cell_type": "markdown",
   "metadata": {},
   "source": [
    "### A similar Box plot series is showing the amounts by LOBs. The MARKETING and the SECURITY SOLUTIONS department are claiming more than the others."
   ]
  },
  {
   "cell_type": "code",
   "execution_count": 8,
   "metadata": {},
   "outputs": [
    {
     "data": {
      "image/png": "[encoded data removed]",
      "text/plain": [
       "<matplotlib.figure.Figure at 0x7f9464fbdb00>"
      ]
     },
     "metadata": {},
     "output_type": "display_data"
    }
   ],
   "source": [
    "fig = plt.figure(figsize = (15,5))\n",
    "plt.xticks(size = 15)\n",
    "plt.yticks(size = 15)\n",
    "ax = fig.gca()\n",
    "boxprops = dict(linestyle='-', linewidth=4, color='k')\n",
    "medianprops = dict(linestyle='-', linewidth=4, color='k')\n",
    "hist = df.boxplot(by='LOB', column='AMOUNT', ax=ax, boxprops=boxprops, medianprops=medianprops)"
   ]
  },
  {
   "cell_type": "markdown",
   "metadata": {},
   "source": [
    "#### Let us narrow down our inferential statistical focus to the MANAGER and PRACTITIONER features. The following Box plots are showing how the expense claims are distributed between non-managers and managers and also non-practitioners and practitioners. Managers seems to claim more expense."
   ]
  },
  {
   "cell_type": "code",
   "execution_count": 9,
   "metadata": {},
   "outputs": [
    {
     "data": {
      "image/png": "[encoded data removed]",
      "text/plain": [
       "<matplotlib.figure.Figure at 0x7f9464e4e6a0>"
      ]
     },
     "metadata": {},
     "output_type": "display_data"
    }
   ],
   "source": [
    "fig = plt.figure(figsize = (15,5))\n",
    "plt.xticks(size = 15)\n",
    "plt.yticks(size = 15)\n",
    "ax = fig.gca()\n",
    "boxprops = dict(linestyle='-', linewidth=4, color='k')\n",
    "medianprops = dict(linestyle='-', linewidth=4, color='k')\n",
    "hist = df.boxplot(by='MANAGER', column='AMOUNT', ax=ax, boxprops=boxprops, medianprops=medianprops)"
   ]
  },
  {
   "cell_type": "markdown",
   "metadata": {},
   "source": [
    "#### There is no significant difference between non-practitioners and practitioners in terms of expense claims."
   ]
  },
  {
   "cell_type": "code",
   "execution_count": 12,
   "metadata": {
    "scrolled": true
   },
   "outputs": [
    {
     "data": {
      "image/png": "[encoded data removed]",
      "text/plain": [
       "<matplotlib.figure.Figure at 0x7f9464d3d9b0>"
      ]
     },
     "metadata": {},
     "output_type": "display_data"
    }
   ],
   "source": [
    "fig = plt.figure(figsize = (15,5))\n",
    "ax = fig.gca()\n",
    "hist = df.boxplot(by='PRACTITIONER', column='AMOUNT', ax=ax)"
   ]
  },
  {
   "cell_type": "markdown",
   "metadata": {},
   "source": [
    "#### Plot the distribution for each LOB on a histogram. MARKETING and INS seems to contribute the most to the expenses."
   ]
  },
  {
   "cell_type": "code",
   "execution_count": 17,
   "metadata": {
    "scrolled": true
   },
   "outputs": [
    {
     "name": "stderr",
     "output_type": "stream",
     "text": [
      "/opt/conda/envs/DSX-Python35/lib/python3.5/site-packages/pandas/plotting/_core.py:2164: UserWarning: To output multiple subplots, the figure containing the passed axes is being cleared\n",
      "  yrot=yrot, **kwds)\n"
     ]
    },
    {
     "data": {
      "image/png": "[encoded data removed]",
      "text/plain": [
       "<matplotlib.figure.Figure at 0x7f946477be10>"
      ]
     },
     "metadata": {},
     "output_type": "display_data"
    }
   ],
   "source": [
    "fig = plt.figure(figsize = (15,10))\n",
    "ax = fig.gca()\n",
    "hist = df.hist(by='LOB', column='AMOUNT', bins=25, sharey=True, ax=ax)"
   ]
  },
  {
   "cell_type": "code",
   "execution_count": 21,
   "metadata": {},
   "outputs": [
    {
     "data": {
      "text/plain": [
       "LOB\n",
       "ADMIN & GENERAL       1606.501\n",
       "INS                   4655.768\n",
       "MARKETING             7288.927\n",
       "PFS                   1839.722\n",
       "PMO                    853.053\n",
       "SECURITY SOLUTIONS    1120.567\n",
       "SWS                   1805.577\n",
       "TSS                   3110.953\n",
       "Name: AMOUNT, dtype: float64"
      ]
     },
     "execution_count": 21,
     "metadata": {},
     "output_type": "execute_result"
    }
   ],
   "source": [
    "df.groupby(['LOB'])['AMOUNT'].sum()"
   ]
  },
  {
   "cell_type": "markdown",
   "metadata": {},
   "source": [
    "## Regression testing"
   ]
  },
  {
   "cell_type": "markdown",
   "metadata": {},
   "source": [
    "###### Changing categorical variable LOB with one hot encoding so it can be used for further analysis"
   ]
  },
  {
   "cell_type": "code",
   "execution_count": 23,
   "metadata": {
    "scrolled": false
   },
   "outputs": [
    {
     "data": {
      "text/html": [
       "<div>\n",
       "<style scoped>\n",
       "    .dataframe tbody tr th:only-of-type {\n",
       "        vertical-align: middle;\n",
       "    }\n",
       "\n",
       "    .dataframe tbody tr th {\n",
       "        vertical-align: top;\n",
       "    }\n",
       "\n",
       "    .dataframe thead th {\n",
       "        text-align: right;\n",
       "    }\n",
       "</style>\n",
       "<table border=\"1\" class=\"dataframe\">\n",
       "  <thead>\n",
       "    <tr style=\"text-align: right;\">\n",
       "      <th></th>\n",
       "      <th>MANAGER</th>\n",
       "      <th>PRACTITIONER</th>\n",
       "      <th>MONTH</th>\n",
       "      <th>AMOUNT</th>\n",
       "      <th>ADMIN &amp; GENERAL</th>\n",
       "      <th>INS</th>\n",
       "      <th>MARKETING</th>\n",
       "      <th>PFS</th>\n",
       "      <th>PMO</th>\n",
       "      <th>SECURITY SOLUTIONS</th>\n",
       "      <th>SWS</th>\n",
       "      <th>TSS</th>\n",
       "    </tr>\n",
       "  </thead>\n",
       "  <tbody>\n",
       "    <tr>\n",
       "      <th>count</th>\n",
       "      <td>591.000000</td>\n",
       "      <td>591.000000</td>\n",
       "      <td>591.000000</td>\n",
       "      <td>591.000000</td>\n",
       "      <td>591.000000</td>\n",
       "      <td>591.000000</td>\n",
       "      <td>591.000000</td>\n",
       "      <td>591.000000</td>\n",
       "      <td>591.000000</td>\n",
       "      <td>591.000000</td>\n",
       "      <td>591.000000</td>\n",
       "      <td>591.000000</td>\n",
       "    </tr>\n",
       "    <tr>\n",
       "      <th>mean</th>\n",
       "      <td>0.179357</td>\n",
       "      <td>0.389171</td>\n",
       "      <td>6.084602</td>\n",
       "      <td>37.700623</td>\n",
       "      <td>0.071066</td>\n",
       "      <td>0.275804</td>\n",
       "      <td>0.225042</td>\n",
       "      <td>0.106599</td>\n",
       "      <td>0.043993</td>\n",
       "      <td>0.020305</td>\n",
       "      <td>0.087986</td>\n",
       "      <td>0.169205</td>\n",
       "    </tr>\n",
       "    <tr>\n",
       "      <th>std</th>\n",
       "      <td>0.383976</td>\n",
       "      <td>0.487975</td>\n",
       "      <td>3.385855</td>\n",
       "      <td>28.238504</td>\n",
       "      <td>0.257153</td>\n",
       "      <td>0.447297</td>\n",
       "      <td>0.417964</td>\n",
       "      <td>0.308864</td>\n",
       "      <td>0.205254</td>\n",
       "      <td>0.141160</td>\n",
       "      <td>0.283515</td>\n",
       "      <td>0.375250</td>\n",
       "    </tr>\n",
       "    <tr>\n",
       "      <th>min</th>\n",
       "      <td>0.000000</td>\n",
       "      <td>0.000000</td>\n",
       "      <td>1.000000</td>\n",
       "      <td>2.620000</td>\n",
       "      <td>0.000000</td>\n",
       "      <td>0.000000</td>\n",
       "      <td>0.000000</td>\n",
       "      <td>0.000000</td>\n",
       "      <td>0.000000</td>\n",
       "      <td>0.000000</td>\n",
       "      <td>0.000000</td>\n",
       "      <td>0.000000</td>\n",
       "    </tr>\n",
       "    <tr>\n",
       "      <th>25%</th>\n",
       "      <td>0.000000</td>\n",
       "      <td>0.000000</td>\n",
       "      <td>3.000000</td>\n",
       "      <td>21.615000</td>\n",
       "      <td>0.000000</td>\n",
       "      <td>0.000000</td>\n",
       "      <td>0.000000</td>\n",
       "      <td>0.000000</td>\n",
       "      <td>0.000000</td>\n",
       "      <td>0.000000</td>\n",
       "      <td>0.000000</td>\n",
       "      <td>0.000000</td>\n",
       "    </tr>\n",
       "    <tr>\n",
       "      <th>50%</th>\n",
       "      <td>0.000000</td>\n",
       "      <td>0.000000</td>\n",
       "      <td>6.000000</td>\n",
       "      <td>29.852000</td>\n",
       "      <td>0.000000</td>\n",
       "      <td>0.000000</td>\n",
       "      <td>0.000000</td>\n",
       "      <td>0.000000</td>\n",
       "      <td>0.000000</td>\n",
       "      <td>0.000000</td>\n",
       "      <td>0.000000</td>\n",
       "      <td>0.000000</td>\n",
       "    </tr>\n",
       "    <tr>\n",
       "      <th>75%</th>\n",
       "      <td>0.000000</td>\n",
       "      <td>1.000000</td>\n",
       "      <td>9.000000</td>\n",
       "      <td>43.732000</td>\n",
       "      <td>0.000000</td>\n",
       "      <td>1.000000</td>\n",
       "      <td>0.000000</td>\n",
       "      <td>0.000000</td>\n",
       "      <td>0.000000</td>\n",
       "      <td>0.000000</td>\n",
       "      <td>0.000000</td>\n",
       "      <td>0.000000</td>\n",
       "    </tr>\n",
       "    <tr>\n",
       "      <th>max</th>\n",
       "      <td>1.000000</td>\n",
       "      <td>1.000000</td>\n",
       "      <td>12.000000</td>\n",
       "      <td>176.742667</td>\n",
       "      <td>1.000000</td>\n",
       "      <td>1.000000</td>\n",
       "      <td>1.000000</td>\n",
       "      <td>1.000000</td>\n",
       "      <td>1.000000</td>\n",
       "      <td>1.000000</td>\n",
       "      <td>1.000000</td>\n",
       "      <td>1.000000</td>\n",
       "    </tr>\n",
       "  </tbody>\n",
       "</table>\n",
       "</div>"
      ],
      "text/plain": [
       "          MANAGER  PRACTITIONER       MONTH      AMOUNT  ADMIN & GENERAL  \\\n",
       "count  591.000000    591.000000  591.000000  591.000000       591.000000   \n",
       "mean     0.179357      0.389171    6.084602   37.700623         0.071066   \n",
       "std      0.383976      0.487975    3.385855   28.238504         0.257153   \n",
       "min      0.000000      0.000000    1.000000    2.620000         0.000000   \n",
       "25%      0.000000      0.000000    3.000000   21.615000         0.000000   \n",
       "50%      0.000000      0.000000    6.000000   29.852000         0.000000   \n",
       "75%      0.000000      1.000000    9.000000   43.732000         0.000000   \n",
       "max      1.000000      1.000000   12.000000  176.742667         1.000000   \n",
       "\n",
       "              INS   MARKETING         PFS         PMO  SECURITY SOLUTIONS  \\\n",
       "count  591.000000  591.000000  591.000000  591.000000          591.000000   \n",
       "mean     0.275804    0.225042    0.106599    0.043993            0.020305   \n",
       "std      0.447297    0.417964    0.308864    0.205254            0.141160   \n",
       "min      0.000000    0.000000    0.000000    0.000000            0.000000   \n",
       "25%      0.000000    0.000000    0.000000    0.000000            0.000000   \n",
       "50%      0.000000    0.000000    0.000000    0.000000            0.000000   \n",
       "75%      1.000000    0.000000    0.000000    0.000000            0.000000   \n",
       "max      1.000000    1.000000    1.000000    1.000000            1.000000   \n",
       "\n",
       "              SWS         TSS  \n",
       "count  591.000000  591.000000  \n",
       "mean     0.087986    0.169205  \n",
       "std      0.283515    0.375250  \n",
       "min      0.000000    0.000000  \n",
       "25%      0.000000    0.000000  \n",
       "50%      0.000000    0.000000  \n",
       "75%      0.000000    0.000000  \n",
       "max      1.000000    1.000000  "
      ]
     },
     "execution_count": 23,
     "metadata": {},
     "output_type": "execute_result"
    }
   ],
   "source": [
    "Feature = df\n",
    "Feature = pd.concat([Feature,pd.get_dummies(df['LOB'])], axis=1)\n",
    "del Feature['LOB']\n",
    "# Feature.head()\n",
    "Feature.describe()"
   ]
  },
  {
   "cell_type": "code",
   "execution_count": 6,
   "metadata": {
    "collapsed": true
   },
   "outputs": [
    {
     "data": {
      "text/html": [
       "<div>\n",
       "<style scoped>\n",
       "    .dataframe tbody tr th:only-of-type {\n",
       "        vertical-align: middle;\n",
       "    }\n",
       "\n",
       "    .dataframe tbody tr th {\n",
       "        vertical-align: top;\n",
       "    }\n",
       "\n",
       "    .dataframe thead th {\n",
       "        text-align: right;\n",
       "    }\n",
       "</style>\n",
       "<table border=\"1\" class=\"dataframe\">\n",
       "  <thead>\n",
       "    <tr style=\"text-align: right;\">\n",
       "      <th></th>\n",
       "      <th>MANAGER</th>\n",
       "      <th>PRACTITIONER</th>\n",
       "      <th>AMOUNT</th>\n",
       "      <th>ADMIN &amp; GENERAL</th>\n",
       "      <th>INS</th>\n",
       "      <th>MARKETING</th>\n",
       "      <th>PFS</th>\n",
       "      <th>PMO</th>\n",
       "      <th>SECURITY SOLUTIONS</th>\n",
       "      <th>SWS</th>\n",
       "      <th>TSS</th>\n",
       "    </tr>\n",
       "    <tr>\n",
       "      <th>MONTH</th>\n",
       "      <th></th>\n",
       "      <th></th>\n",
       "      <th></th>\n",
       "      <th></th>\n",
       "      <th></th>\n",
       "      <th></th>\n",
       "      <th></th>\n",
       "      <th></th>\n",
       "      <th></th>\n",
       "      <th></th>\n",
       "      <th></th>\n",
       "    </tr>\n",
       "  </thead>\n",
       "  <tbody>\n",
       "    <tr>\n",
       "      <th>1</th>\n",
       "      <td>10</td>\n",
       "      <td>23</td>\n",
       "      <td>2077.154000</td>\n",
       "      <td>4</td>\n",
       "      <td>15</td>\n",
       "      <td>11</td>\n",
       "      <td>10</td>\n",
       "      <td>2</td>\n",
       "      <td>1</td>\n",
       "      <td>4</td>\n",
       "      <td>12</td>\n",
       "    </tr>\n",
       "    <tr>\n",
       "      <th>2</th>\n",
       "      <td>10</td>\n",
       "      <td>19</td>\n",
       "      <td>2156.058000</td>\n",
       "      <td>4</td>\n",
       "      <td>13</td>\n",
       "      <td>12</td>\n",
       "      <td>8</td>\n",
       "      <td>2</td>\n",
       "      <td>1</td>\n",
       "      <td>3</td>\n",
       "      <td>10</td>\n",
       "    </tr>\n",
       "    <tr>\n",
       "      <th>3</th>\n",
       "      <td>11</td>\n",
       "      <td>18</td>\n",
       "      <td>2221.328000</td>\n",
       "      <td>4</td>\n",
       "      <td>15</td>\n",
       "      <td>12</td>\n",
       "      <td>8</td>\n",
       "      <td>2</td>\n",
       "      <td>1</td>\n",
       "      <td>5</td>\n",
       "      <td>9</td>\n",
       "    </tr>\n",
       "    <tr>\n",
       "      <th>4</th>\n",
       "      <td>12</td>\n",
       "      <td>20</td>\n",
       "      <td>2232.757000</td>\n",
       "      <td>4</td>\n",
       "      <td>16</td>\n",
       "      <td>14</td>\n",
       "      <td>5</td>\n",
       "      <td>2</td>\n",
       "      <td>1</td>\n",
       "      <td>5</td>\n",
       "      <td>8</td>\n",
       "    </tr>\n",
       "    <tr>\n",
       "      <th>5</th>\n",
       "      <td>10</td>\n",
       "      <td>19</td>\n",
       "      <td>2088.711000</td>\n",
       "      <td>3</td>\n",
       "      <td>14</td>\n",
       "      <td>13</td>\n",
       "      <td>5</td>\n",
       "      <td>2</td>\n",
       "      <td>1</td>\n",
       "      <td>5</td>\n",
       "      <td>7</td>\n",
       "    </tr>\n",
       "    <tr>\n",
       "      <th>6</th>\n",
       "      <td>10</td>\n",
       "      <td>18</td>\n",
       "      <td>1910.392000</td>\n",
       "      <td>4</td>\n",
       "      <td>12</td>\n",
       "      <td>14</td>\n",
       "      <td>6</td>\n",
       "      <td>2</td>\n",
       "      <td>1</td>\n",
       "      <td>5</td>\n",
       "      <td>7</td>\n",
       "    </tr>\n",
       "    <tr>\n",
       "      <th>7</th>\n",
       "      <td>8</td>\n",
       "      <td>19</td>\n",
       "      <td>1904.683667</td>\n",
       "      <td>5</td>\n",
       "      <td>14</td>\n",
       "      <td>11</td>\n",
       "      <td>6</td>\n",
       "      <td>2</td>\n",
       "      <td>1</td>\n",
       "      <td>4</td>\n",
       "      <td>7</td>\n",
       "    </tr>\n",
       "    <tr>\n",
       "      <th>8</th>\n",
       "      <td>8</td>\n",
       "      <td>19</td>\n",
       "      <td>1669.493667</td>\n",
       "      <td>4</td>\n",
       "      <td>14</td>\n",
       "      <td>10</td>\n",
       "      <td>5</td>\n",
       "      <td>2</td>\n",
       "      <td>1</td>\n",
       "      <td>5</td>\n",
       "      <td>7</td>\n",
       "    </tr>\n",
       "    <tr>\n",
       "      <th>9</th>\n",
       "      <td>8</td>\n",
       "      <td>18</td>\n",
       "      <td>1533.367667</td>\n",
       "      <td>2</td>\n",
       "      <td>14</td>\n",
       "      <td>10</td>\n",
       "      <td>3</td>\n",
       "      <td>2</td>\n",
       "      <td>1</td>\n",
       "      <td>6</td>\n",
       "      <td>8</td>\n",
       "    </tr>\n",
       "    <tr>\n",
       "      <th>10</th>\n",
       "      <td>8</td>\n",
       "      <td>19</td>\n",
       "      <td>1763.924667</td>\n",
       "      <td>2</td>\n",
       "      <td>14</td>\n",
       "      <td>11</td>\n",
       "      <td>3</td>\n",
       "      <td>2</td>\n",
       "      <td>1</td>\n",
       "      <td>5</td>\n",
       "      <td>9</td>\n",
       "    </tr>\n",
       "    <tr>\n",
       "      <th>11</th>\n",
       "      <td>6</td>\n",
       "      <td>20</td>\n",
       "      <td>1548.838667</td>\n",
       "      <td>3</td>\n",
       "      <td>12</td>\n",
       "      <td>8</td>\n",
       "      <td>3</td>\n",
       "      <td>3</td>\n",
       "      <td>1</td>\n",
       "      <td>4</td>\n",
       "      <td>9</td>\n",
       "    </tr>\n",
       "    <tr>\n",
       "      <th>12</th>\n",
       "      <td>5</td>\n",
       "      <td>18</td>\n",
       "      <td>1174.359667</td>\n",
       "      <td>3</td>\n",
       "      <td>10</td>\n",
       "      <td>7</td>\n",
       "      <td>1</td>\n",
       "      <td>3</td>\n",
       "      <td>1</td>\n",
       "      <td>1</td>\n",
       "      <td>7</td>\n",
       "    </tr>\n",
       "  </tbody>\n",
       "</table>\n",
       "</div>"
      ],
      "text/plain": [
       "       MANAGER  PRACTITIONER       AMOUNT  ADMIN & GENERAL  INS  MARKETING  \\\n",
       "MONTH                                                                        \n",
       "1           10            23  2077.154000                4   15         11   \n",
       "2           10            19  2156.058000                4   13         12   \n",
       "3           11            18  2221.328000                4   15         12   \n",
       "4           12            20  2232.757000                4   16         14   \n",
       "5           10            19  2088.711000                3   14         13   \n",
       "6           10            18  1910.392000                4   12         14   \n",
       "7            8            19  1904.683667                5   14         11   \n",
       "8            8            19  1669.493667                4   14         10   \n",
       "9            8            18  1533.367667                2   14         10   \n",
       "10           8            19  1763.924667                2   14         11   \n",
       "11           6            20  1548.838667                3   12          8   \n",
       "12           5            18  1174.359667                3   10          7   \n",
       "\n",
       "       PFS  PMO  SECURITY SOLUTIONS  SWS  TSS  \n",
       "MONTH                                          \n",
       "1       10    2                   1    4   12  \n",
       "2        8    2                   1    3   10  \n",
       "3        8    2                   1    5    9  \n",
       "4        5    2                   1    5    8  \n",
       "5        5    2                   1    5    7  \n",
       "6        6    2                   1    5    7  \n",
       "7        6    2                   1    4    7  \n",
       "8        5    2                   1    5    7  \n",
       "9        3    2                   1    6    8  \n",
       "10       3    2                   1    5    9  \n",
       "11       3    3                   1    4    9  \n",
       "12       1    3                   1    1    7  "
      ]
     },
     "execution_count": 6,
     "metadata": {},
     "output_type": "execute_result"
    }
   ],
   "source": [
    "Feature.groupby('MONTH').sum()"
   ]
  },
  {
   "cell_type": "markdown",
   "metadata": {},
   "source": [
    "Create a train and a test data set randomly (80% is used for training). The predictors are added to a list so later I can check all of them separately in their relation to the target variable (AMOUNT)."
   ]
  },
  {
   "cell_type": "code",
   "execution_count": 24,
   "metadata": {},
   "outputs": [],
   "source": [
    "msk = np.random.rand(len(df)) < 0.8\n",
    "train = Feature[msk]\n",
    "test = Feature[~msk]\n",
    "predictors = ['ADMIN & GENERAL', 'INS', 'MARKETING', 'PFS', 'PMO', 'SECURITY SOLUTIONS', 'SWS', 'TSS']\n",
    "# predictors = ['MANAGER', 'PRACTITIONER', 'MONTH']\n",
    "target = ['AMOUNT']"
   ]
  },
  {
   "cell_type": "markdown",
   "metadata": {},
   "source": [
    "Let us check whether there is any relation between the predictors and the target variable of AMOUNT"
   ]
  },
  {
   "cell_type": "code",
   "execution_count": 25,
   "metadata": {},
   "outputs": [
    {
     "name": "stdout",
     "output_type": "stream",
     "text": [
      "Coefficients:  [[ -5.49255699 -13.93919756  13.1019838  -13.41759373  -8.33523318\n",
      "   46.39532237  -7.26554985 -11.04717485]]\n"
     ]
    }
   ],
   "source": [
    "from sklearn import linear_model\n",
    "regr = linear_model.LinearRegression()\n",
    "x = np.asanyarray(train[predictors])\n",
    "y = np.asanyarray(train[target])\n",
    "regr.fit (x, y)\n",
    "# The coefficients\n",
    "print ('Coefficients: ', regr.coef_)"
   ]
  },
  {
   "cell_type": "code",
   "execution_count": 26,
   "metadata": {},
   "outputs": [
    {
     "name": "stdout",
     "output_type": "stream",
     "text": [
      "Residual sum of squares: 508.01\n",
      "Variance score: 0.28\n"
     ]
    }
   ],
   "source": [
    "y_hat= regr.predict(test[predictors])\n",
    "x = np.asanyarray(test[predictors])\n",
    "y = np.asanyarray(test[target])\n",
    "print(\"Residual sum of squares: %.2f\"\n",
    "      % np.mean((y_hat - y) ** 2))\n",
    "\n",
    "# Explained variance score: 1 is perfect prediction\n",
    "print('Variance score: %.2f' % regr.score(x, y))"
   ]
  },
  {
   "cell_type": "markdown",
   "metadata": {},
   "source": [
    "Now let us loop through each predictor and add PRACTITIONER to this list to see whether they are related to the target variable or not"
   ]
  },
  {
   "cell_type": "code",
   "execution_count": 27,
   "metadata": {
    "scrolled": false
   },
   "outputs": [
    {
     "name": "stdout",
     "output_type": "stream",
     "text": [
      "Coefficients:  [[ -6.90231181 -14.20009553]] for predictor ADMIN & GENERAL\n",
      "Residual sum of squares: 659.88\n",
      "Variance score: 0.06\n",
      "Coefficients:  [[ -8.09930811 -10.23877031]] for predictor INS\n",
      "Residual sum of squares: 650.10\n",
      "Variance score: 0.08\n",
      "Coefficients:  [[ 19.96573281  -5.9265917 ]] for predictor MARKETING\n",
      "Residual sum of squares: 632.48\n",
      "Variance score: 0.10\n",
      "Coefficients:  [[-13.90313827 -14.87809035]] for predictor PFS\n",
      "Residual sum of squares: 635.89\n",
      "Variance score: 0.10\n",
      "Coefficients:  [[  5.02212121 -13.91945689]] for predictor PMO\n",
      "Residual sum of squares: 657.15\n",
      "Variance score: 0.07\n",
      "Coefficients:  [[ 47.3277814  -11.85788168]] for predictor SECURITY SOLUTIONS\n",
      "Residual sum of squares: 557.97\n",
      "Variance score: 0.21\n",
      "Coefficients:  [[ -5.33076313 -13.67434044]] for predictor SWS\n",
      "Residual sum of squares: 651.74\n",
      "Variance score: 0.07\n",
      "Coefficients:  [[ -3.3528341  -12.68491234]] for predictor TSS\n",
      "Residual sum of squares: 652.55\n",
      "Variance score: 0.07\n"
     ]
    }
   ],
   "source": [
    "for i in range(len(predictors)):\n",
    "    regr = linear_model.LinearRegression()\n",
    "    x = np.asanyarray(train[predictors[i:i+1] + ['PRACTITIONER']])\n",
    "    # x = np.asanyarray(train[predictors[i:i+1]])\n",
    "    y = np.asanyarray(train[target])\n",
    "    regr.fit (x, y)\n",
    "    # The coefficients\n",
    "    print ('Coefficients: ', regr.coef_, 'for predictor', predictors[i])\n",
    "    \n",
    "    y_hat= regr.predict(test[predictors[i:i+1] + ['PRACTITIONER']])\n",
    "    x = np.asanyarray(test[predictors[i:i+1] + ['PRACTITIONER']])\n",
    "    # y_hat= regr.predict(test[predictors[i:i+1]])\n",
    "    # x = np.asanyarray(test[predictors[i:i+1]])\n",
    "    y = np.asanyarray(test[target])\n",
    "    print(\"Residual sum of squares: %.2f\"\n",
    "      % np.mean((y_hat - y) ** 2))\n",
    "\n",
    "    # Explained variance score: 1 is perfect prediction\n",
    "    print('Variance score: %.2f' % regr.score(x, y))"
   ]
  },
  {
   "cell_type": "markdown",
   "metadata": {},
   "source": [
    "Since the variance score is very clost to 0.0 (or even a negative number depending on the train set) we can conclude that there is no linear relationship between the predictors and the target variable."
   ]
  },
  {
   "cell_type": "markdown",
   "metadata": {},
   "source": [
    "## Clustering with K-Means"
   ]
  },
  {
   "cell_type": "code",
   "execution_count": 33,
   "metadata": {},
   "outputs": [
    {
     "data": {
      "text/html": [
       "<div>\n",
       "<style scoped>\n",
       "    .dataframe tbody tr th:only-of-type {\n",
       "        vertical-align: middle;\n",
       "    }\n",
       "\n",
       "    .dataframe tbody tr th {\n",
       "        vertical-align: top;\n",
       "    }\n",
       "\n",
       "    .dataframe thead th {\n",
       "        text-align: right;\n",
       "    }\n",
       "</style>\n",
       "<table border=\"1\" class=\"dataframe\">\n",
       "  <thead>\n",
       "    <tr style=\"text-align: right;\">\n",
       "      <th></th>\n",
       "      <th>MANAGER</th>\n",
       "      <th>PRACTITIONER</th>\n",
       "      <th>MONTH</th>\n",
       "      <th>AMOUNT</th>\n",
       "      <th>ADMIN &amp; GENERAL</th>\n",
       "      <th>INS</th>\n",
       "      <th>MARKETING</th>\n",
       "      <th>PFS</th>\n",
       "      <th>PMO</th>\n",
       "      <th>SECURITY SOLUTIONS</th>\n",
       "      <th>SWS</th>\n",
       "      <th>TSS</th>\n",
       "    </tr>\n",
       "  </thead>\n",
       "  <tbody>\n",
       "    <tr>\n",
       "      <th>0</th>\n",
       "      <td>0</td>\n",
       "      <td>0</td>\n",
       "      <td>11</td>\n",
       "      <td>29.0</td>\n",
       "      <td>0</td>\n",
       "      <td>0</td>\n",
       "      <td>1</td>\n",
       "      <td>0</td>\n",
       "      <td>0</td>\n",
       "      <td>0</td>\n",
       "      <td>0</td>\n",
       "      <td>0</td>\n",
       "    </tr>\n",
       "    <tr>\n",
       "      <th>1</th>\n",
       "      <td>0</td>\n",
       "      <td>0</td>\n",
       "      <td>10</td>\n",
       "      <td>29.0</td>\n",
       "      <td>0</td>\n",
       "      <td>0</td>\n",
       "      <td>1</td>\n",
       "      <td>0</td>\n",
       "      <td>0</td>\n",
       "      <td>0</td>\n",
       "      <td>0</td>\n",
       "      <td>0</td>\n",
       "    </tr>\n",
       "    <tr>\n",
       "      <th>2</th>\n",
       "      <td>0</td>\n",
       "      <td>0</td>\n",
       "      <td>12</td>\n",
       "      <td>28.0</td>\n",
       "      <td>0</td>\n",
       "      <td>0</td>\n",
       "      <td>1</td>\n",
       "      <td>0</td>\n",
       "      <td>0</td>\n",
       "      <td>0</td>\n",
       "      <td>0</td>\n",
       "      <td>0</td>\n",
       "    </tr>\n",
       "    <tr>\n",
       "      <th>3</th>\n",
       "      <td>0</td>\n",
       "      <td>1</td>\n",
       "      <td>1</td>\n",
       "      <td>19.0</td>\n",
       "      <td>0</td>\n",
       "      <td>0</td>\n",
       "      <td>0</td>\n",
       "      <td>1</td>\n",
       "      <td>0</td>\n",
       "      <td>0</td>\n",
       "      <td>0</td>\n",
       "      <td>0</td>\n",
       "    </tr>\n",
       "    <tr>\n",
       "      <th>4</th>\n",
       "      <td>0</td>\n",
       "      <td>1</td>\n",
       "      <td>2</td>\n",
       "      <td>19.0</td>\n",
       "      <td>0</td>\n",
       "      <td>0</td>\n",
       "      <td>0</td>\n",
       "      <td>1</td>\n",
       "      <td>0</td>\n",
       "      <td>0</td>\n",
       "      <td>0</td>\n",
       "      <td>0</td>\n",
       "    </tr>\n",
       "  </tbody>\n",
       "</table>\n",
       "</div>"
      ],
      "text/plain": [
       "   MANAGER  PRACTITIONER  MONTH  AMOUNT  ADMIN & GENERAL  INS  MARKETING  PFS  \\\n",
       "0        0             0     11    29.0                0    0          1    0   \n",
       "1        0             0     10    29.0                0    0          1    0   \n",
       "2        0             0     12    28.0                0    0          1    0   \n",
       "3        0             1      1    19.0                0    0          0    1   \n",
       "4        0             1      2    19.0                0    0          0    1   \n",
       "\n",
       "   PMO  SECURITY SOLUTIONS  SWS  TSS  \n",
       "0    0                   0    0    0  \n",
       "1    0                   0    0    0  \n",
       "2    0                   0    0    0  \n",
       "3    0                   0    0    0  \n",
       "4    0                   0    0    0  "
      ]
     },
     "execution_count": 33,
     "metadata": {},
     "output_type": "execute_result"
    }
   ],
   "source": [
    "phone_df = Feature\n",
    "phone_df.head()"
   ]
  },
  {
   "cell_type": "markdown",
   "metadata": {},
   "source": [
    "Scale our variables in the data frame so they will fit better for the purpose of K-Means"
   ]
  },
  {
   "cell_type": "code",
   "execution_count": 34,
   "metadata": {
    "scrolled": true
   },
   "outputs": [
    {
     "data": {
      "text/plain": [
       "array([[-0.46750048, -0.79819742,  1.45297447, ..., -0.14396315,\n",
       "        -0.31060418, -0.45129368],\n",
       "       [-0.46750048, -0.79819742,  1.15737795, ..., -0.14396315,\n",
       "        -0.31060418, -0.45129368],\n",
       "       [-0.46750048, -0.79819742,  1.748571  , ..., -0.14396315,\n",
       "        -0.31060418, -0.45129368],\n",
       "       ..., \n",
       "       [-0.46750048,  1.2528229 ,  0.86178142, ..., -0.14396315,\n",
       "        -0.31060418,  2.21585198],\n",
       "       [-0.46750048,  1.2528229 ,  1.15737795, ..., -0.14396315,\n",
       "        -0.31060418,  2.21585198],\n",
       "       [-0.46750048,  1.2528229 ,  1.45297447, ..., -0.14396315,\n",
       "        -0.31060418,  2.21585198]])"
      ]
     },
     "execution_count": 34,
     "metadata": {},
     "output_type": "execute_result"
    }
   ],
   "source": [
    "X = phone_df.values\n",
    "X = np.nan_to_num(X)\n",
    "phone_dataSet = StandardScaler().fit_transform(X)\n",
    "phone_dataSet"
   ]
  },
  {
   "cell_type": "code",
   "execution_count": 30,
   "metadata": {},
   "outputs": [],
   "source": [
    "from sklearn.preprocessing import StandardScaler\n",
    "from sklearn.cluster import KMeans"
   ]
  },
  {
   "cell_type": "code",
   "execution_count": 35,
   "metadata": {},
   "outputs": [],
   "source": [
    "Sum_of_squared_distances = []\n",
    "K = range(1,15)\n",
    "for k in K:\n",
    "    km = KMeans(init = \"k-means++\", n_clusters=k, n_init=12)\n",
    "    km = km.fit(phone_dataSet)\n",
    "    Sum_of_squared_distances.append(km.inertia_)"
   ]
  },
  {
   "cell_type": "code",
   "execution_count": 36,
   "metadata": {},
   "outputs": [
    {
     "data": {
      "image/png": "[encoded data removed]",
      "text/plain": [
       "<matplotlib.figure.Figure at 0x7f946480ef60>"
      ]
     },
     "metadata": {},
     "output_type": "display_data"
    }
   ],
   "source": [
    "plt.plot(K, Sum_of_squared_distances, 'bx-')\n",
    "plt.xlabel('k')\n",
    "plt.ylabel('Sum_of_squared_distances')\n",
    "plt.title('Elbow Method For Optimal k')\n",
    "plt.show()"
   ]
  },
  {
   "cell_type": "markdown",
   "metadata": {},
   "source": [
    "It seems that the elbow point is at k=8. I will also test k=2 since there is a significant drop in the sum of square roots between k=1 and k=2 as well."
   ]
  },
  {
   "cell_type": "code",
   "execution_count": 38,
   "metadata": {
    "scrolled": false
   },
   "outputs": [
    {
     "data": {
      "text/plain": [
       "array([3, 3, 3, 5, 5, 5, 5, 5, 5, 5, 5, 4, 4, 4, 4, 4, 4, 4, 2, 2, 2, 2, 2,\n",
       "       2, 2, 2, 2, 2, 2, 2, 2, 2, 3, 3, 3, 3, 3, 3, 3, 3, 3, 3, 3, 3, 3, 3,\n",
       "       3, 3, 3, 3, 3, 3, 3, 3, 3, 3, 3, 3, 3, 3, 3, 3, 3, 3, 1, 1, 1, 1, 3,\n",
       "       3, 3, 3, 3, 3, 3, 3, 3, 3, 1, 1, 1, 1, 1, 1, 1, 1, 1, 1, 1, 1, 1, 1,\n",
       "       1, 1, 1, 1, 1, 1, 1, 1, 1, 2, 2, 2, 2, 2, 2, 2, 2, 2, 2, 2, 0, 0, 0,\n",
       "       0, 0, 0, 0, 2, 2, 2, 2, 2, 2, 2, 2, 2, 2, 2, 2, 1, 1, 1, 1, 1, 1, 1,\n",
       "       1, 1, 1, 1, 4, 4, 4, 4, 4, 4, 4, 4, 4, 4, 4, 4, 5, 5, 5, 5, 5, 5, 5,\n",
       "       5, 5, 3, 3, 3, 3, 3, 3, 3, 3, 3, 3, 3, 3, 3, 3, 3, 3, 3, 3, 3, 3, 3,\n",
       "       3, 3, 3, 3, 3, 3, 3, 3, 3, 3, 3, 3, 3, 3, 3, 3, 3, 3, 1, 1, 1, 1, 1,\n",
       "       1, 1, 1, 1, 1, 1, 1, 6, 6, 6, 6, 6, 6, 6, 6, 6, 6, 6, 4, 4, 4, 4, 4,\n",
       "       4, 4, 4, 4, 4, 4, 5, 5, 5, 5, 5, 5, 5, 5, 5, 5, 5, 5, 2, 2, 2, 2, 2,\n",
       "       2, 2, 2, 2, 2, 2, 2, 6, 6, 6, 6, 6, 6, 6, 6, 6, 6, 6, 6, 6, 6, 6, 6,\n",
       "       6, 7, 7, 7, 7, 7, 7, 7, 7, 7, 7, 7, 7, 3, 3, 3, 3, 3, 3, 3, 3, 3, 3,\n",
       "       3, 3, 2, 2, 2, 3, 3, 4, 4, 4, 4, 4, 6, 6, 6, 6, 6, 6, 6, 6, 6, 6, 6,\n",
       "       6, 6, 6, 0, 0, 0, 0, 0, 0, 0, 1, 1, 1, 1, 1, 1, 1, 1, 1, 1, 1, 1, 1,\n",
       "       1, 1, 1, 1, 1, 1, 1, 5, 5, 5, 5, 5, 5, 1, 1, 1, 1, 1, 1, 1, 1, 1, 1,\n",
       "       1, 1, 1, 1, 1, 1, 1, 1, 1, 1, 1, 1, 1, 1, 1, 3, 3, 3, 3, 3, 3, 3, 3,\n",
       "       3, 3, 3, 3, 4, 4, 4, 4, 4, 4, 4, 4, 1, 1, 1, 1, 1, 1, 1, 1, 1, 1, 1,\n",
       "       1, 1, 1, 1, 1, 1, 1, 1, 1, 1, 1, 1, 1, 1, 3, 3, 3, 3, 3, 3, 4, 4, 4,\n",
       "       4, 4, 4, 4, 4, 4, 5, 5, 5, 5, 5, 5, 5, 5, 5, 5, 5, 5, 5, 5, 5, 2, 2,\n",
       "       2, 2, 2, 2, 2, 2, 2, 2, 2, 1, 1, 1, 1, 1, 1, 1, 1, 1, 1, 1, 1, 1, 1,\n",
       "       1, 1, 1, 1, 1, 1, 1, 1, 1, 1, 1, 1, 1, 1, 1, 1, 1, 1, 1, 1, 1, 2, 2,\n",
       "       2, 2, 2, 2, 2, 2, 2, 2, 2, 2, 2, 2, 2, 2, 2, 2, 2, 2, 2, 2, 2, 2, 2,\n",
       "       0, 0, 0, 0, 0, 0, 0, 0, 0, 0, 0, 0, 3, 3, 3, 3, 3, 3, 3, 3, 3, 3, 1,\n",
       "       1, 1, 1, 1, 1, 1, 1, 3, 3, 3, 3, 3, 3, 3, 5, 5, 5, 5, 5, 5, 5, 5, 5,\n",
       "       5, 5, 5, 5, 2, 2, 2, 2, 2, 2, 2, 2, 2, 2, 2, 2], dtype=int32)"
      ]
     },
     "execution_count": 38,
     "metadata": {},
     "output_type": "execute_result"
    }
   ],
   "source": [
    "clusterNum = 8\n",
    "k_means_phone = KMeans(init = \"k-means++\", n_clusters = clusterNum, n_init = 12)\n",
    "k_means_phone.fit(phone_dataSet)\n",
    "labels_phone = k_means_phone.labels_\n",
    "labels_phone"
   ]
  },
  {
   "cell_type": "code",
   "execution_count": 39,
   "metadata": {},
   "outputs": [
    {
     "data": {
      "text/html": [
       "<div>\n",
       "<style scoped>\n",
       "    .dataframe tbody tr th:only-of-type {\n",
       "        vertical-align: middle;\n",
       "    }\n",
       "\n",
       "    .dataframe tbody tr th {\n",
       "        vertical-align: top;\n",
       "    }\n",
       "\n",
       "    .dataframe thead th {\n",
       "        text-align: right;\n",
       "    }\n",
       "</style>\n",
       "<table border=\"1\" class=\"dataframe\">\n",
       "  <thead>\n",
       "    <tr style=\"text-align: right;\">\n",
       "      <th></th>\n",
       "      <th>MANAGER</th>\n",
       "      <th>PRACTITIONER</th>\n",
       "      <th>MONTH</th>\n",
       "      <th>AMOUNT</th>\n",
       "      <th>ADMIN &amp; GENERAL</th>\n",
       "      <th>INS</th>\n",
       "      <th>MARKETING</th>\n",
       "      <th>PFS</th>\n",
       "      <th>PMO</th>\n",
       "      <th>SECURITY SOLUTIONS</th>\n",
       "      <th>SWS</th>\n",
       "      <th>TSS</th>\n",
       "      <th>Phone_km</th>\n",
       "    </tr>\n",
       "  </thead>\n",
       "  <tbody>\n",
       "    <tr>\n",
       "      <th>0</th>\n",
       "      <td>0</td>\n",
       "      <td>0</td>\n",
       "      <td>11</td>\n",
       "      <td>29.0</td>\n",
       "      <td>0</td>\n",
       "      <td>0</td>\n",
       "      <td>1</td>\n",
       "      <td>0</td>\n",
       "      <td>0</td>\n",
       "      <td>0</td>\n",
       "      <td>0</td>\n",
       "      <td>0</td>\n",
       "      <td>3</td>\n",
       "    </tr>\n",
       "    <tr>\n",
       "      <th>1</th>\n",
       "      <td>0</td>\n",
       "      <td>0</td>\n",
       "      <td>10</td>\n",
       "      <td>29.0</td>\n",
       "      <td>0</td>\n",
       "      <td>0</td>\n",
       "      <td>1</td>\n",
       "      <td>0</td>\n",
       "      <td>0</td>\n",
       "      <td>0</td>\n",
       "      <td>0</td>\n",
       "      <td>0</td>\n",
       "      <td>3</td>\n",
       "    </tr>\n",
       "    <tr>\n",
       "      <th>2</th>\n",
       "      <td>0</td>\n",
       "      <td>0</td>\n",
       "      <td>12</td>\n",
       "      <td>28.0</td>\n",
       "      <td>0</td>\n",
       "      <td>0</td>\n",
       "      <td>1</td>\n",
       "      <td>0</td>\n",
       "      <td>0</td>\n",
       "      <td>0</td>\n",
       "      <td>0</td>\n",
       "      <td>0</td>\n",
       "      <td>3</td>\n",
       "    </tr>\n",
       "    <tr>\n",
       "      <th>3</th>\n",
       "      <td>0</td>\n",
       "      <td>1</td>\n",
       "      <td>1</td>\n",
       "      <td>19.0</td>\n",
       "      <td>0</td>\n",
       "      <td>0</td>\n",
       "      <td>0</td>\n",
       "      <td>1</td>\n",
       "      <td>0</td>\n",
       "      <td>0</td>\n",
       "      <td>0</td>\n",
       "      <td>0</td>\n",
       "      <td>5</td>\n",
       "    </tr>\n",
       "    <tr>\n",
       "      <th>4</th>\n",
       "      <td>0</td>\n",
       "      <td>1</td>\n",
       "      <td>2</td>\n",
       "      <td>19.0</td>\n",
       "      <td>0</td>\n",
       "      <td>0</td>\n",
       "      <td>0</td>\n",
       "      <td>1</td>\n",
       "      <td>0</td>\n",
       "      <td>0</td>\n",
       "      <td>0</td>\n",
       "      <td>0</td>\n",
       "      <td>5</td>\n",
       "    </tr>\n",
       "  </tbody>\n",
       "</table>\n",
       "</div>"
      ],
      "text/plain": [
       "   MANAGER  PRACTITIONER  MONTH  AMOUNT  ADMIN & GENERAL  INS  MARKETING  PFS  \\\n",
       "0        0             0     11    29.0                0    0          1    0   \n",
       "1        0             0     10    29.0                0    0          1    0   \n",
       "2        0             0     12    28.0                0    0          1    0   \n",
       "3        0             1      1    19.0                0    0          0    1   \n",
       "4        0             1      2    19.0                0    0          0    1   \n",
       "\n",
       "   PMO  SECURITY SOLUTIONS  SWS  TSS  Phone_km  \n",
       "0    0                   0    0    0         3  \n",
       "1    0                   0    0    0         3  \n",
       "2    0                   0    0    0         3  \n",
       "3    0                   0    0    0         5  \n",
       "4    0                   0    0    0         5  "
      ]
     },
     "execution_count": 39,
     "metadata": {},
     "output_type": "execute_result"
    }
   ],
   "source": [
    "phone_df[\"Phone_km\"] = labels_phone\n",
    "phone_df.head()"
   ]
  },
  {
   "cell_type": "code",
   "execution_count": 40,
   "metadata": {
    "scrolled": true
   },
   "outputs": [
    {
     "data": {
      "text/html": [
       "<div>\n",
       "<style scoped>\n",
       "    .dataframe tbody tr th:only-of-type {\n",
       "        vertical-align: middle;\n",
       "    }\n",
       "\n",
       "    .dataframe tbody tr th {\n",
       "        vertical-align: top;\n",
       "    }\n",
       "\n",
       "    .dataframe thead th {\n",
       "        text-align: right;\n",
       "    }\n",
       "</style>\n",
       "<table border=\"1\" class=\"dataframe\">\n",
       "  <thead>\n",
       "    <tr style=\"text-align: right;\">\n",
       "      <th></th>\n",
       "      <th>MANAGER</th>\n",
       "      <th>PRACTITIONER</th>\n",
       "      <th>MONTH</th>\n",
       "      <th>AMOUNT</th>\n",
       "      <th>ADMIN &amp; GENERAL</th>\n",
       "      <th>INS</th>\n",
       "      <th>MARKETING</th>\n",
       "      <th>PFS</th>\n",
       "      <th>PMO</th>\n",
       "      <th>SECURITY SOLUTIONS</th>\n",
       "      <th>SWS</th>\n",
       "      <th>TSS</th>\n",
       "    </tr>\n",
       "    <tr>\n",
       "      <th>Phone_km</th>\n",
       "      <th></th>\n",
       "      <th></th>\n",
       "      <th></th>\n",
       "      <th></th>\n",
       "      <th></th>\n",
       "      <th></th>\n",
       "      <th></th>\n",
       "      <th></th>\n",
       "      <th></th>\n",
       "      <th></th>\n",
       "      <th></th>\n",
       "      <th></th>\n",
       "    </tr>\n",
       "  </thead>\n",
       "  <tbody>\n",
       "    <tr>\n",
       "      <th>0</th>\n",
       "      <td>0.461538</td>\n",
       "      <td>1.000000</td>\n",
       "      <td>6.884615</td>\n",
       "      <td>32.809731</td>\n",
       "      <td>0</td>\n",
       "      <td>0</td>\n",
       "      <td>0</td>\n",
       "      <td>0</td>\n",
       "      <td>1</td>\n",
       "      <td>0</td>\n",
       "      <td>0</td>\n",
       "      <td>0</td>\n",
       "    </tr>\n",
       "    <tr>\n",
       "      <th>1</th>\n",
       "      <td>0.000000</td>\n",
       "      <td>0.723926</td>\n",
       "      <td>6.257669</td>\n",
       "      <td>28.562994</td>\n",
       "      <td>0</td>\n",
       "      <td>1</td>\n",
       "      <td>0</td>\n",
       "      <td>0</td>\n",
       "      <td>0</td>\n",
       "      <td>0</td>\n",
       "      <td>0</td>\n",
       "      <td>0</td>\n",
       "    </tr>\n",
       "    <tr>\n",
       "      <th>2</th>\n",
       "      <td>0.120000</td>\n",
       "      <td>0.660000</td>\n",
       "      <td>6.180000</td>\n",
       "      <td>31.109530</td>\n",
       "      <td>0</td>\n",
       "      <td>0</td>\n",
       "      <td>0</td>\n",
       "      <td>0</td>\n",
       "      <td>0</td>\n",
       "      <td>0</td>\n",
       "      <td>0</td>\n",
       "      <td>1</td>\n",
       "    </tr>\n",
       "    <tr>\n",
       "      <th>3</th>\n",
       "      <td>0.360902</td>\n",
       "      <td>0.000000</td>\n",
       "      <td>6.052632</td>\n",
       "      <td>54.803962</td>\n",
       "      <td>0</td>\n",
       "      <td>0</td>\n",
       "      <td>1</td>\n",
       "      <td>0</td>\n",
       "      <td>0</td>\n",
       "      <td>0</td>\n",
       "      <td>0</td>\n",
       "      <td>0</td>\n",
       "    </tr>\n",
       "    <tr>\n",
       "      <th>4</th>\n",
       "      <td>0.153846</td>\n",
       "      <td>0.230769</td>\n",
       "      <td>6.307692</td>\n",
       "      <td>34.722635</td>\n",
       "      <td>0</td>\n",
       "      <td>0</td>\n",
       "      <td>0</td>\n",
       "      <td>0</td>\n",
       "      <td>0</td>\n",
       "      <td>0</td>\n",
       "      <td>1</td>\n",
       "      <td>0</td>\n",
       "    </tr>\n",
       "    <tr>\n",
       "      <th>5</th>\n",
       "      <td>0.142857</td>\n",
       "      <td>0.126984</td>\n",
       "      <td>5.000000</td>\n",
       "      <td>29.201937</td>\n",
       "      <td>0</td>\n",
       "      <td>0</td>\n",
       "      <td>0</td>\n",
       "      <td>1</td>\n",
       "      <td>0</td>\n",
       "      <td>0</td>\n",
       "      <td>0</td>\n",
       "      <td>0</td>\n",
       "    </tr>\n",
       "    <tr>\n",
       "      <th>6</th>\n",
       "      <td>0.404762</td>\n",
       "      <td>0.000000</td>\n",
       "      <td>6.023810</td>\n",
       "      <td>38.250024</td>\n",
       "      <td>1</td>\n",
       "      <td>0</td>\n",
       "      <td>0</td>\n",
       "      <td>0</td>\n",
       "      <td>0</td>\n",
       "      <td>0</td>\n",
       "      <td>0</td>\n",
       "      <td>0</td>\n",
       "    </tr>\n",
       "    <tr>\n",
       "      <th>7</th>\n",
       "      <td>0.000000</td>\n",
       "      <td>0.000000</td>\n",
       "      <td>6.500000</td>\n",
       "      <td>93.380583</td>\n",
       "      <td>0</td>\n",
       "      <td>0</td>\n",
       "      <td>0</td>\n",
       "      <td>0</td>\n",
       "      <td>0</td>\n",
       "      <td>1</td>\n",
       "      <td>0</td>\n",
       "      <td>0</td>\n",
       "    </tr>\n",
       "  </tbody>\n",
       "</table>\n",
       "</div>"
      ],
      "text/plain": [
       "           MANAGER  PRACTITIONER     MONTH     AMOUNT  ADMIN & GENERAL  INS  \\\n",
       "Phone_km                                                                      \n",
       "0         0.461538      1.000000  6.884615  32.809731                0    0   \n",
       "1         0.000000      0.723926  6.257669  28.562994                0    1   \n",
       "2         0.120000      0.660000  6.180000  31.109530                0    0   \n",
       "3         0.360902      0.000000  6.052632  54.803962                0    0   \n",
       "4         0.153846      0.230769  6.307692  34.722635                0    0   \n",
       "5         0.142857      0.126984  5.000000  29.201937                0    0   \n",
       "6         0.404762      0.000000  6.023810  38.250024                1    0   \n",
       "7         0.000000      0.000000  6.500000  93.380583                0    0   \n",
       "\n",
       "          MARKETING  PFS  PMO  SECURITY SOLUTIONS  SWS  TSS  \n",
       "Phone_km                                                     \n",
       "0                 0    0    1                   0    0    0  \n",
       "1                 0    0    0                   0    0    0  \n",
       "2                 0    0    0                   0    0    1  \n",
       "3                 1    0    0                   0    0    0  \n",
       "4                 0    0    0                   0    1    0  \n",
       "5                 0    1    0                   0    0    0  \n",
       "6                 0    0    0                   0    0    0  \n",
       "7                 0    0    0                   1    0    0  "
      ]
     },
     "execution_count": 40,
     "metadata": {},
     "output_type": "execute_result"
    }
   ],
   "source": [
    "phone_df.groupby([\"Phone_km\"]).mean()"
   ]
  },
  {
   "cell_type": "markdown",
   "metadata": {},
   "source": [
    "It seems that the clustering algorithm has created a cluster for each LOB."
   ]
  },
  {
   "cell_type": "markdown",
   "metadata": {},
   "source": [
    "Now let see what would be the result if we change k=2."
   ]
  },
  {
   "cell_type": "code",
   "execution_count": 41,
   "metadata": {},
   "outputs": [],
   "source": [
    "clusterNum = 2\n",
    "k_means_phone = KMeans(init = \"k-means++\", n_clusters = clusterNum, n_init = 12)\n",
    "k_means_phone.fit(phone_dataSet)\n",
    "labels_phone = k_means_phone.labels_\n",
    "phone_df[\"Phone_km\"] = labels_phone"
   ]
  },
  {
   "cell_type": "code",
   "execution_count": 43,
   "metadata": {},
   "outputs": [
    {
     "data": {
      "text/html": [
       "<div>\n",
       "<style scoped>\n",
       "    .dataframe tbody tr th:only-of-type {\n",
       "        vertical-align: middle;\n",
       "    }\n",
       "\n",
       "    .dataframe tbody tr th {\n",
       "        vertical-align: top;\n",
       "    }\n",
       "\n",
       "    .dataframe thead th {\n",
       "        text-align: right;\n",
       "    }\n",
       "</style>\n",
       "<table border=\"1\" class=\"dataframe\">\n",
       "  <thead>\n",
       "    <tr style=\"text-align: right;\">\n",
       "      <th></th>\n",
       "      <th>MANAGER</th>\n",
       "      <th>PRACTITIONER</th>\n",
       "      <th>MONTH</th>\n",
       "      <th>AMOUNT</th>\n",
       "      <th>ADMIN &amp; GENERAL</th>\n",
       "      <th>INS</th>\n",
       "      <th>MARKETING</th>\n",
       "      <th>PFS</th>\n",
       "      <th>PMO</th>\n",
       "      <th>SECURITY SOLUTIONS</th>\n",
       "      <th>SWS</th>\n",
       "      <th>TSS</th>\n",
       "    </tr>\n",
       "    <tr>\n",
       "      <th>Phone_km</th>\n",
       "      <th></th>\n",
       "      <th></th>\n",
       "      <th></th>\n",
       "      <th></th>\n",
       "      <th></th>\n",
       "      <th></th>\n",
       "      <th></th>\n",
       "      <th></th>\n",
       "      <th></th>\n",
       "      <th></th>\n",
       "      <th></th>\n",
       "      <th></th>\n",
       "    </tr>\n",
       "  </thead>\n",
       "  <tbody>\n",
       "    <tr>\n",
       "      <th>0</th>\n",
       "      <td>0.319728</td>\n",
       "      <td>0.000000</td>\n",
       "      <td>5.928571</td>\n",
       "      <td>45.899704</td>\n",
       "      <td>0.142857</td>\n",
       "      <td>0.000000</td>\n",
       "      <td>0.452381</td>\n",
       "      <td>0.187075</td>\n",
       "      <td>0.000000</td>\n",
       "      <td>0.040816</td>\n",
       "      <td>0.136054</td>\n",
       "      <td>0.040816</td>\n",
       "    </tr>\n",
       "    <tr>\n",
       "      <th>1</th>\n",
       "      <td>0.040404</td>\n",
       "      <td>0.774411</td>\n",
       "      <td>6.239057</td>\n",
       "      <td>29.584360</td>\n",
       "      <td>0.000000</td>\n",
       "      <td>0.548822</td>\n",
       "      <td>0.000000</td>\n",
       "      <td>0.026936</td>\n",
       "      <td>0.087542</td>\n",
       "      <td>0.000000</td>\n",
       "      <td>0.040404</td>\n",
       "      <td>0.296296</td>\n",
       "    </tr>\n",
       "  </tbody>\n",
       "</table>\n",
       "</div>"
      ],
      "text/plain": [
       "           MANAGER  PRACTITIONER     MONTH     AMOUNT  ADMIN & GENERAL  \\\n",
       "Phone_km                                                                 \n",
       "0         0.319728      0.000000  5.928571  45.899704         0.142857   \n",
       "1         0.040404      0.774411  6.239057  29.584360         0.000000   \n",
       "\n",
       "               INS  MARKETING       PFS       PMO  SECURITY SOLUTIONS  \\\n",
       "Phone_km                                                                \n",
       "0         0.000000   0.452381  0.187075  0.000000            0.040816   \n",
       "1         0.548822   0.000000  0.026936  0.087542            0.000000   \n",
       "\n",
       "               SWS       TSS  \n",
       "Phone_km                      \n",
       "0         0.136054  0.040816  \n",
       "1         0.040404  0.296296  "
      ]
     },
     "execution_count": 43,
     "metadata": {},
     "output_type": "execute_result"
    }
   ],
   "source": [
    "phone_df.groupby(['Phone_km']).mean()"
   ]
  },
  {
   "cell_type": "markdown",
   "metadata": {},
   "source": [
    "After re-running the K-Means algorith we can clearly differentiate 2 major groups:\n",
    "1. the first cluster is for <b> managers and non-practitioners </b> (roughly 46 INR / month) and \n",
    "2. the second cluster is for <b> non-managers and practitioners </b> (roughly 30 INR / month)."
   ]
  },
  {
   "cell_type": "markdown",
   "metadata": {},
   "source": [
    "Let see how our clusters are looking like on a color coded histogram."
   ]
  },
  {
   "cell_type": "code",
   "execution_count": 44,
   "metadata": {},
   "outputs": [
    {
     "data": {
      "text/plain": [
       "Phone_km\n",
       "0    AxesSubplot(0.125,0.125;0.775x0.755)\n",
       "1    AxesSubplot(0.125,0.125;0.775x0.755)\n",
       "Name: AMOUNT, dtype: object"
      ]
     },
     "execution_count": 44,
     "metadata": {},
     "output_type": "execute_result"
    },
    {
     "data": {
      "image/png": "[encoded data removed]",
      "text/plain": [
       "<matplotlib.figure.Figure at 0x7f94648085c0>"
      ]
     },
     "metadata": {},
     "output_type": "display_data"
    }
   ],
   "source": [
    "fig = plt.figure(figsize = (15,5))\n",
    "ax = fig.gca()\n",
    "phone_df.groupby('Phone_km').AMOUNT.hist(alpha=0.5, ax=ax, bins=25)"
   ]
  },
  {
   "cell_type": "code",
   "execution_count": null,
   "metadata": {},
   "outputs": [],
   "source": []
  }
 ],
 "metadata": {
  "kernelspec": {
   "display_name": "Python 3",
   "language": "python",
   "name": "python3"
  },
  "language_info": {
   "codemirror_mode": {
    "name": "ipython",
    "version": 3
   },
   "file_extension": ".py",
   "mimetype": "text/x-python",
   "name": "python",
   "nbconvert_exporter": "python",
   "pygments_lexer": "ipython3",
   "version": "3.7.1"
  }
 },
 "nbformat": 4,
 "nbformat_minor": 1
}
